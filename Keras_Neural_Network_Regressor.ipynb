{
  "nbformat": 4,
  "nbformat_minor": 0,
  "metadata": {
    "kernelspec": {
      "name": "python3",
      "display_name": "Python 3"
    },
    "colab": {
      "name": "Keras_Deep_Neural_Network_Regression.ipynb",
      "provenance": [],
      "collapsed_sections": []
    }
  },
  "cells": [
    {
      "cell_type": "markdown",
      "metadata": {
        "button": false,
        "deletable": true,
        "new_sheet": false,
        "run_control": {
          "read_only": false
        },
        "id": "W_RXP6tFFPjR",
        "colab_type": "text"
      },
      "source": [
        "## Building a Regression Model using Keras Neural Networks\n",
        "***\n",
        "\n",
        "Date : 07-11-2020\\\n",
        "Author : Frissian Viales - Aspirant Data Engineer and Data Scientist\\\n",
        "LinkedIn Profile : https://www.linkedin.com/in/friscian-viales/ \\\n",
        "GitHub Profile : https://github.com/Shogun-187 \n",
        "\n",
        "\n",
        "\n",
        "\n"
      ]
    },
    {
      "cell_type": "markdown",
      "metadata": {
        "id": "JbDfspHbTF0U",
        "colab_type": "text"
      },
      "source": [
        "![alt text](https://external-content.duckduckgo.com/iu/?u=https%3A%2F%2Fmedia.wired.com%2Fphotos%2F5c54d1dbf254572cc21b8288%2Fmaster%2Fw_2400%2Cc_limit%2FNeural_Networks_2880x1620-2880x1620.jpg&f=1&nofb=1)\n"
      ]
    },
    {
      "cell_type": "markdown",
      "metadata": {
        "button": false,
        "deletable": true,
        "new_sheet": false,
        "run_control": {
          "read_only": false
        },
        "id": "IuKEEkocFPjT",
        "colab_type": "text"
      },
      "source": [
        "## Introduction"
      ]
    },
    {
      "cell_type": "markdown",
      "metadata": {
        "button": false,
        "deletable": true,
        "new_sheet": false,
        "run_control": {
          "read_only": false
        },
        "id": "DTefdQ4PFPjU",
        "colab_type": "text"
      },
      "source": [
        "Welcome! This notebook is my first project working with Neural Networks. Here, I will demonstrate how to build a Neural Network using the Keras library and we will use it to solve a regression problem. Neural Networks are quite popular nowadays for Machine Learing projects and I'm excited to be sharing this with you. This project is part of my [IBM AI Engineering Course](https://www.coursera.org/professional-certificates/ai-engineer) in case anyone is interested. Without further do, let's get started.  "
      ]
    },
    {
      "cell_type": "markdown",
      "metadata": {
        "button": false,
        "deletable": true,
        "new_sheet": false,
        "run_control": {
          "read_only": false
        },
        "id": "Bn3IXI-yFPjV",
        "colab_type": "text"
      },
      "source": [
        "### Agenda\n",
        "\n",
        "    \n",
        "1. Data Exploration\n",
        "2. Data Preprocessing\n",
        "3. Building a Neural Network with Keras\n",
        "4. Training and Testing the Model\n",
        "5. Conclusions"
      ]
    },
    {
      "cell_type": "markdown",
      "metadata": {
        "id": "yw9H1JInwyz2",
        "colab_type": "text"
      },
      "source": [
        "## Data Exploration:"
      ]
    },
    {
      "cell_type": "markdown",
      "metadata": {
        "id": "LHE0JaPvz1GR",
        "colab_type": "text"
      },
      "source": [
        "### Data Extraction:"
      ]
    },
    {
      "cell_type": "code",
      "metadata": {
        "button": false,
        "deletable": true,
        "new_sheet": false,
        "run_control": {
          "read_only": false
        },
        "id": "APxgnmxrFPjd",
        "colab_type": "code",
        "colab": {}
      },
      "source": [
        "# Let's start by importing the Pandas and Numpy libraries:\n",
        "import pandas as pd\n",
        "import numpy as np"
      ],
      "execution_count": 1,
      "outputs": []
    },
    {
      "cell_type": "markdown",
      "metadata": {
        "button": false,
        "deletable": true,
        "new_sheet": false,
        "run_control": {
          "read_only": false
        },
        "id": "jBN5yhOqFPjl",
        "colab_type": "text"
      },
      "source": [
        "We will be using a dataset about the **compressive strength** of different samples of concrete based on the volumes of the different ingredients that were used to make them. Ingredients include:\n",
        "\n",
        "1. Cement\n",
        "\n",
        "2. Blast Furnace Slag\n",
        "\n",
        "3. Fly Ash\n",
        "\n",
        "4. Water\n",
        "\n",
        "5. Superplasticizer\n",
        "\n",
        "6. Coarse Aggregate\n",
        "\n",
        "7. Fine Aggregate"
      ]
    },
    {
      "cell_type": "code",
      "metadata": {
        "button": false,
        "deletable": true,
        "new_sheet": false,
        "run_control": {
          "read_only": false
        },
        "id": "eaOt1jdcFPjo",
        "colab_type": "code",
        "colab": {
          "base_uri": "https://localhost:8080/",
          "height": 197
        },
        "outputId": "bea9e77e-505d-4d8b-b676-f19462cd508a"
      },
      "source": [
        "# Let's download the data and read it into a pandas dataframe.\n",
        "concrete_data = pd.read_csv('https://s3-api.us-geo.objectstorage.softlayer.net/cf-courses-data/CognitiveClass/DL0101EN/labs/data/concrete_data.csv')\n",
        "concrete_data.head()"
      ],
      "execution_count": 2,
      "outputs": [
        {
          "output_type": "execute_result",
          "data": {
            "text/html": [
              "<div>\n",
              "<style scoped>\n",
              "    .dataframe tbody tr th:only-of-type {\n",
              "        vertical-align: middle;\n",
              "    }\n",
              "\n",
              "    .dataframe tbody tr th {\n",
              "        vertical-align: top;\n",
              "    }\n",
              "\n",
              "    .dataframe thead th {\n",
              "        text-align: right;\n",
              "    }\n",
              "</style>\n",
              "<table border=\"1\" class=\"dataframe\">\n",
              "  <thead>\n",
              "    <tr style=\"text-align: right;\">\n",
              "      <th></th>\n",
              "      <th>Cement</th>\n",
              "      <th>Blast Furnace Slag</th>\n",
              "      <th>Fly Ash</th>\n",
              "      <th>Water</th>\n",
              "      <th>Superplasticizer</th>\n",
              "      <th>Coarse Aggregate</th>\n",
              "      <th>Fine Aggregate</th>\n",
              "      <th>Age</th>\n",
              "      <th>Strength</th>\n",
              "    </tr>\n",
              "  </thead>\n",
              "  <tbody>\n",
              "    <tr>\n",
              "      <th>0</th>\n",
              "      <td>540.0</td>\n",
              "      <td>0.0</td>\n",
              "      <td>0.0</td>\n",
              "      <td>162.0</td>\n",
              "      <td>2.5</td>\n",
              "      <td>1040.0</td>\n",
              "      <td>676.0</td>\n",
              "      <td>28</td>\n",
              "      <td>79.99</td>\n",
              "    </tr>\n",
              "    <tr>\n",
              "      <th>1</th>\n",
              "      <td>540.0</td>\n",
              "      <td>0.0</td>\n",
              "      <td>0.0</td>\n",
              "      <td>162.0</td>\n",
              "      <td>2.5</td>\n",
              "      <td>1055.0</td>\n",
              "      <td>676.0</td>\n",
              "      <td>28</td>\n",
              "      <td>61.89</td>\n",
              "    </tr>\n",
              "    <tr>\n",
              "      <th>2</th>\n",
              "      <td>332.5</td>\n",
              "      <td>142.5</td>\n",
              "      <td>0.0</td>\n",
              "      <td>228.0</td>\n",
              "      <td>0.0</td>\n",
              "      <td>932.0</td>\n",
              "      <td>594.0</td>\n",
              "      <td>270</td>\n",
              "      <td>40.27</td>\n",
              "    </tr>\n",
              "    <tr>\n",
              "      <th>3</th>\n",
              "      <td>332.5</td>\n",
              "      <td>142.5</td>\n",
              "      <td>0.0</td>\n",
              "      <td>228.0</td>\n",
              "      <td>0.0</td>\n",
              "      <td>932.0</td>\n",
              "      <td>594.0</td>\n",
              "      <td>365</td>\n",
              "      <td>41.05</td>\n",
              "    </tr>\n",
              "    <tr>\n",
              "      <th>4</th>\n",
              "      <td>198.6</td>\n",
              "      <td>132.4</td>\n",
              "      <td>0.0</td>\n",
              "      <td>192.0</td>\n",
              "      <td>0.0</td>\n",
              "      <td>978.4</td>\n",
              "      <td>825.5</td>\n",
              "      <td>360</td>\n",
              "      <td>44.30</td>\n",
              "    </tr>\n",
              "  </tbody>\n",
              "</table>\n",
              "</div>"
            ],
            "text/plain": [
              "   Cement  Blast Furnace Slag  Fly Ash  ...  Fine Aggregate  Age  Strength\n",
              "0   540.0                 0.0      0.0  ...           676.0   28     79.99\n",
              "1   540.0                 0.0      0.0  ...           676.0   28     61.89\n",
              "2   332.5               142.5      0.0  ...           594.0  270     40.27\n",
              "3   332.5               142.5      0.0  ...           594.0  365     41.05\n",
              "4   198.6               132.4      0.0  ...           825.5  360     44.30\n",
              "\n",
              "[5 rows x 9 columns]"
            ]
          },
          "metadata": {
            "tags": []
          },
          "execution_count": 2
        }
      ]
    },
    {
      "cell_type": "markdown",
      "metadata": {
        "button": false,
        "deletable": true,
        "new_sheet": false,
        "run_control": {
          "read_only": false
        },
        "id": "SSCvFiHhFPju",
        "colab_type": "text"
      },
      "source": [
        "So the first concrete sample has 540 cubic meter of cement, 0 cubic meter of blast furnace slag, 0 cubic meter of fly ash, 162 cubic meter of water, 2.5 cubic meter of superplaticizer, 1040 cubic meter of coarse aggregate, 676 cubic meter of fine aggregate. Such a concrete mix which is 28 days old, has a compressive strength of 79.99 MPa. \n",
        "\n",
        "Our job will be to build a model that can make accurate predictions given a new recipe of ingredients. This would allow us to study different mixes without actually making them, in order to come up with the most effective concrete mixture. "
      ]
    },
    {
      "cell_type": "markdown",
      "metadata": {
        "id": "-gmgfpKLzrAx",
        "colab_type": "text"
      },
      "source": [
        "### Descriptive Statistics:\n",
        "The first step in a machine learning project would be to gain understanding about the data that we are working with. This will help us identify some potentials problems that must need to be taken care of before we actually get to building the neural network."
      ]
    },
    {
      "cell_type": "code",
      "metadata": {
        "button": false,
        "deletable": true,
        "new_sheet": false,
        "run_control": {
          "read_only": false
        },
        "id": "xvHpesO6FPjw",
        "colab_type": "code",
        "colab": {
          "base_uri": "https://localhost:8080/",
          "height": 34
        },
        "outputId": "86135664-3af1-4c87-d297-c11d02f91f7f"
      },
      "source": [
        "# Let's check how many observations we have:\n",
        "concrete_data.shape"
      ],
      "execution_count": 3,
      "outputs": [
        {
          "output_type": "execute_result",
          "data": {
            "text/plain": [
              "(1030, 9)"
            ]
          },
          "metadata": {
            "tags": []
          },
          "execution_count": 3
        }
      ]
    },
    {
      "cell_type": "code",
      "metadata": {
        "id": "2lU9opV9Hd3W",
        "colab_type": "code",
        "colab": {
          "base_uri": "https://localhost:8080/",
          "height": 194
        },
        "outputId": "e31cc08d-808f-43ee-8d22-7661283dea1a"
      },
      "source": [
        "# Let's make sure our data has the correct data types:\n",
        "concrete_data.dtypes"
      ],
      "execution_count": 4,
      "outputs": [
        {
          "output_type": "execute_result",
          "data": {
            "text/plain": [
              "Cement                float64\n",
              "Blast Furnace Slag    float64\n",
              "Fly Ash               float64\n",
              "Water                 float64\n",
              "Superplasticizer      float64\n",
              "Coarse Aggregate      float64\n",
              "Fine Aggregate        float64\n",
              "Age                     int64\n",
              "Strength              float64\n",
              "dtype: object"
            ]
          },
          "metadata": {
            "tags": []
          },
          "execution_count": 4
        }
      ]
    },
    {
      "cell_type": "code",
      "metadata": {
        "id": "lX8pBIywByjn",
        "colab_type": "code",
        "colab": {
          "base_uri": "https://localhost:8080/",
          "height": 194
        },
        "outputId": "579c1ae3-0a1b-49c1-83d1-667ba5efdee9"
      },
      "source": [
        "# Let's check the dataset for any missing values:\n",
        "concrete_data.isnull().sum()"
      ],
      "execution_count": 5,
      "outputs": [
        {
          "output_type": "execute_result",
          "data": {
            "text/plain": [
              "Cement                0\n",
              "Blast Furnace Slag    0\n",
              "Fly Ash               0\n",
              "Water                 0\n",
              "Superplasticizer      0\n",
              "Coarse Aggregate      0\n",
              "Fine Aggregate        0\n",
              "Age                   0\n",
              "Strength              0\n",
              "dtype: int64"
            ]
          },
          "metadata": {
            "tags": []
          },
          "execution_count": 5
        }
      ]
    },
    {
      "cell_type": "code",
      "metadata": {
        "button": false,
        "deletable": true,
        "new_sheet": false,
        "run_control": {
          "read_only": false
        },
        "id": "gqcNNLGZFPj3",
        "colab_type": "code",
        "colab": {
          "base_uri": "https://localhost:8080/",
          "height": 287
        },
        "outputId": "8b8abdf0-93f3-4f88-bf72-f57dc783fb61"
      },
      "source": [
        "# Let's compute some descriptive statistics about our dataset:\n",
        "concrete_data.describe()"
      ],
      "execution_count": 6,
      "outputs": [
        {
          "output_type": "execute_result",
          "data": {
            "text/html": [
              "<div>\n",
              "<style scoped>\n",
              "    .dataframe tbody tr th:only-of-type {\n",
              "        vertical-align: middle;\n",
              "    }\n",
              "\n",
              "    .dataframe tbody tr th {\n",
              "        vertical-align: top;\n",
              "    }\n",
              "\n",
              "    .dataframe thead th {\n",
              "        text-align: right;\n",
              "    }\n",
              "</style>\n",
              "<table border=\"1\" class=\"dataframe\">\n",
              "  <thead>\n",
              "    <tr style=\"text-align: right;\">\n",
              "      <th></th>\n",
              "      <th>Cement</th>\n",
              "      <th>Blast Furnace Slag</th>\n",
              "      <th>Fly Ash</th>\n",
              "      <th>Water</th>\n",
              "      <th>Superplasticizer</th>\n",
              "      <th>Coarse Aggregate</th>\n",
              "      <th>Fine Aggregate</th>\n",
              "      <th>Age</th>\n",
              "      <th>Strength</th>\n",
              "    </tr>\n",
              "  </thead>\n",
              "  <tbody>\n",
              "    <tr>\n",
              "      <th>count</th>\n",
              "      <td>1030.000000</td>\n",
              "      <td>1030.000000</td>\n",
              "      <td>1030.000000</td>\n",
              "      <td>1030.000000</td>\n",
              "      <td>1030.000000</td>\n",
              "      <td>1030.000000</td>\n",
              "      <td>1030.000000</td>\n",
              "      <td>1030.000000</td>\n",
              "      <td>1030.000000</td>\n",
              "    </tr>\n",
              "    <tr>\n",
              "      <th>mean</th>\n",
              "      <td>281.167864</td>\n",
              "      <td>73.895825</td>\n",
              "      <td>54.188350</td>\n",
              "      <td>181.567282</td>\n",
              "      <td>6.204660</td>\n",
              "      <td>972.918932</td>\n",
              "      <td>773.580485</td>\n",
              "      <td>45.662136</td>\n",
              "      <td>35.817961</td>\n",
              "    </tr>\n",
              "    <tr>\n",
              "      <th>std</th>\n",
              "      <td>104.506364</td>\n",
              "      <td>86.279342</td>\n",
              "      <td>63.997004</td>\n",
              "      <td>21.354219</td>\n",
              "      <td>5.973841</td>\n",
              "      <td>77.753954</td>\n",
              "      <td>80.175980</td>\n",
              "      <td>63.169912</td>\n",
              "      <td>16.705742</td>\n",
              "    </tr>\n",
              "    <tr>\n",
              "      <th>min</th>\n",
              "      <td>102.000000</td>\n",
              "      <td>0.000000</td>\n",
              "      <td>0.000000</td>\n",
              "      <td>121.800000</td>\n",
              "      <td>0.000000</td>\n",
              "      <td>801.000000</td>\n",
              "      <td>594.000000</td>\n",
              "      <td>1.000000</td>\n",
              "      <td>2.330000</td>\n",
              "    </tr>\n",
              "    <tr>\n",
              "      <th>25%</th>\n",
              "      <td>192.375000</td>\n",
              "      <td>0.000000</td>\n",
              "      <td>0.000000</td>\n",
              "      <td>164.900000</td>\n",
              "      <td>0.000000</td>\n",
              "      <td>932.000000</td>\n",
              "      <td>730.950000</td>\n",
              "      <td>7.000000</td>\n",
              "      <td>23.710000</td>\n",
              "    </tr>\n",
              "    <tr>\n",
              "      <th>50%</th>\n",
              "      <td>272.900000</td>\n",
              "      <td>22.000000</td>\n",
              "      <td>0.000000</td>\n",
              "      <td>185.000000</td>\n",
              "      <td>6.400000</td>\n",
              "      <td>968.000000</td>\n",
              "      <td>779.500000</td>\n",
              "      <td>28.000000</td>\n",
              "      <td>34.445000</td>\n",
              "    </tr>\n",
              "    <tr>\n",
              "      <th>75%</th>\n",
              "      <td>350.000000</td>\n",
              "      <td>142.950000</td>\n",
              "      <td>118.300000</td>\n",
              "      <td>192.000000</td>\n",
              "      <td>10.200000</td>\n",
              "      <td>1029.400000</td>\n",
              "      <td>824.000000</td>\n",
              "      <td>56.000000</td>\n",
              "      <td>46.135000</td>\n",
              "    </tr>\n",
              "    <tr>\n",
              "      <th>max</th>\n",
              "      <td>540.000000</td>\n",
              "      <td>359.400000</td>\n",
              "      <td>200.100000</td>\n",
              "      <td>247.000000</td>\n",
              "      <td>32.200000</td>\n",
              "      <td>1145.000000</td>\n",
              "      <td>992.600000</td>\n",
              "      <td>365.000000</td>\n",
              "      <td>82.600000</td>\n",
              "    </tr>\n",
              "  </tbody>\n",
              "</table>\n",
              "</div>"
            ],
            "text/plain": [
              "            Cement  Blast Furnace Slag  ...          Age     Strength\n",
              "count  1030.000000         1030.000000  ...  1030.000000  1030.000000\n",
              "mean    281.167864           73.895825  ...    45.662136    35.817961\n",
              "std     104.506364           86.279342  ...    63.169912    16.705742\n",
              "min     102.000000            0.000000  ...     1.000000     2.330000\n",
              "25%     192.375000            0.000000  ...     7.000000    23.710000\n",
              "50%     272.900000           22.000000  ...    28.000000    34.445000\n",
              "75%     350.000000          142.950000  ...    56.000000    46.135000\n",
              "max     540.000000          359.400000  ...   365.000000    82.600000\n",
              "\n",
              "[8 rows x 9 columns]"
            ]
          },
          "metadata": {
            "tags": []
          },
          "execution_count": 6
        }
      ]
    },
    {
      "cell_type": "markdown",
      "metadata": {
        "id": "y3PGseqqzveS",
        "colab_type": "text"
      },
      "source": [
        "### Data Visualization:\n",
        "I like plotting histograms in order to better understand the distribution of the data that we are working with. Besides histograms, I also like plotting a correlation matrix in order to understand which variables could have a higher impact to the target variable when making predictions. Let's plot the data:"
      ]
    },
    {
      "cell_type": "code",
      "metadata": {
        "id": "LqruwVEoOGnN",
        "colab_type": "code",
        "colab": {
          "base_uri": "https://localhost:8080/",
          "height": 771
        },
        "outputId": "9c0f36a3-e291-4450-f46b-660358086908"
      },
      "source": [
        "# Finally, let's also plot some histograms to have a better understanding \n",
        "# of the distribution of our feature columns: \n",
        "import matplotlib.pyplot as plt\n",
        "plt.style.use('dark_background')\n",
        "concrete_data.hist(figsize=(21,13))\n",
        "plt.show()"
      ],
      "execution_count": 7,
      "outputs": [
        {
          "output_type": "display_data",
          "data": {
            "image/png": "[encoded data removed]",
            "text/plain": [
              "<Figure size 1512x936 with 9 Axes>"
            ]
          },
          "metadata": {
            "tags": []
          }
        }
      ]
    },
    {
      "cell_type": "code",
      "metadata": {
        "id": "TgP2It0wDVpn",
        "colab_type": "code",
        "colab": {
          "base_uri": "https://localhost:8080/",
          "height": 608
        },
        "outputId": "3ee6c390-c17c-447a-b7bb-2545f32e11bc"
      },
      "source": [
        "# Let's also plot a correlation matrix:\n",
        "f = plt.figure(figsize=(13, 8))\n",
        "plt.matshow(concrete_data.corr(), fignum=f.number)\n",
        "plt.xticks(range(concrete_data.shape[1]), concrete_data.columns, fontsize=12, rotation=45)\n",
        "plt.yticks(range(concrete_data.shape[1]), concrete_data.columns, fontsize=12)\n",
        "cb = plt.colorbar()\n",
        "cb.ax.tick_params(labelsize=14)\n",
        "plt.title('Correlation Matrix', fontsize=21, pad=90)\n",
        "plt.show()"
      ],
      "execution_count": 8,
      "outputs": [
        {
          "output_type": "display_data",
          "data": {
            "image/png": "[encoded data removed]",
            "text/plain": [
              "<Figure size 936x576 with 2 Axes>"
            ]
          },
          "metadata": {
            "tags": []
          }
        }
      ]
    },
    {
      "cell_type": "code",
      "metadata": {
        "id": "6b3sipb9FE5p",
        "colab_type": "code",
        "colab": {
          "base_uri": "https://localhost:8080/",
          "height": 195
        },
        "outputId": "2c291c89-1648-4bce-cd6e-6bf01bd35187"
      },
      "source": [
        "# Plot correlation values: \n",
        "corr = concrete_data.corr()\n",
        "corr.loc[:,['Strength']].sort_values('Strength').style.background_gradient(cmap='viridis')"
      ],
      "execution_count": 9,
      "outputs": [
        {
          "output_type": "execute_result",
          "data": {
            "text/html": [
              "<style  type=\"text/css\" >\n",
              "    #T_b47adfac_c4bb_11ea_a75f_0242ac1c0002row0_col0 {\n",
              "            background-color:  #440154;\n",
              "            color:  #f1f1f1;\n",
              "        }    #T_b47adfac_c4bb_11ea_a75f_0242ac1c0002row1_col0 {\n",
              "            background-color:  #482374;\n",
              "            color:  #f1f1f1;\n",
              "        }    #T_b47adfac_c4bb_11ea_a75f_0242ac1c0002row2_col0 {\n",
              "            background-color:  #482374;\n",
              "            color:  #f1f1f1;\n",
              "        }    #T_b47adfac_c4bb_11ea_a75f_0242ac1c0002row3_col0 {\n",
              "            background-color:  #46327e;\n",
              "            color:  #f1f1f1;\n",
              "        }    #T_b47adfac_c4bb_11ea_a75f_0242ac1c0002row4_col0 {\n",
              "            background-color:  #31678e;\n",
              "            color:  #f1f1f1;\n",
              "        }    #T_b47adfac_c4bb_11ea_a75f_0242ac1c0002row5_col0 {\n",
              "            background-color:  #228b8d;\n",
              "            color:  #000000;\n",
              "        }    #T_b47adfac_c4bb_11ea_a75f_0242ac1c0002row6_col0 {\n",
              "            background-color:  #20928c;\n",
              "            color:  #000000;\n",
              "        }    #T_b47adfac_c4bb_11ea_a75f_0242ac1c0002row7_col0 {\n",
              "            background-color:  #25ab82;\n",
              "            color:  #000000;\n",
              "        }    #T_b47adfac_c4bb_11ea_a75f_0242ac1c0002row8_col0 {\n",
              "            background-color:  #fde725;\n",
              "            color:  #000000;\n",
              "        }</style><table id=\"T_b47adfac_c4bb_11ea_a75f_0242ac1c0002\" ><thead>    <tr>        <th class=\"blank level0\" ></th>        <th class=\"col_heading level0 col0\" >Strength</th>    </tr></thead><tbody>\n",
              "                <tr>\n",
              "                        <th id=\"T_b47adfac_c4bb_11ea_a75f_0242ac1c0002level0_row0\" class=\"row_heading level0 row0\" >Water</th>\n",
              "                        <td id=\"T_b47adfac_c4bb_11ea_a75f_0242ac1c0002row0_col0\" class=\"data row0 col0\" >-0.289633</td>\n",
              "            </tr>\n",
              "            <tr>\n",
              "                        <th id=\"T_b47adfac_c4bb_11ea_a75f_0242ac1c0002level0_row1\" class=\"row_heading level0 row1\" >Fine Aggregate</th>\n",
              "                        <td id=\"T_b47adfac_c4bb_11ea_a75f_0242ac1c0002row1_col0\" class=\"data row1 col0\" >-0.167241</td>\n",
              "            </tr>\n",
              "            <tr>\n",
              "                        <th id=\"T_b47adfac_c4bb_11ea_a75f_0242ac1c0002level0_row2\" class=\"row_heading level0 row2\" >Coarse Aggregate</th>\n",
              "                        <td id=\"T_b47adfac_c4bb_11ea_a75f_0242ac1c0002row2_col0\" class=\"data row2 col0\" >-0.164935</td>\n",
              "            </tr>\n",
              "            <tr>\n",
              "                        <th id=\"T_b47adfac_c4bb_11ea_a75f_0242ac1c0002level0_row3\" class=\"row_heading level0 row3\" >Fly Ash</th>\n",
              "                        <td id=\"T_b47adfac_c4bb_11ea_a75f_0242ac1c0002row3_col0\" class=\"data row3 col0\" >-0.105755</td>\n",
              "            </tr>\n",
              "            <tr>\n",
              "                        <th id=\"T_b47adfac_c4bb_11ea_a75f_0242ac1c0002level0_row4\" class=\"row_heading level0 row4\" >Blast Furnace Slag</th>\n",
              "                        <td id=\"T_b47adfac_c4bb_11ea_a75f_0242ac1c0002row4_col0\" class=\"data row4 col0\" >0.134829</td>\n",
              "            </tr>\n",
              "            <tr>\n",
              "                        <th id=\"T_b47adfac_c4bb_11ea_a75f_0242ac1c0002level0_row5\" class=\"row_heading level0 row5\" >Age</th>\n",
              "                        <td id=\"T_b47adfac_c4bb_11ea_a75f_0242ac1c0002row5_col0\" class=\"data row5 col0\" >0.328873</td>\n",
              "            </tr>\n",
              "            <tr>\n",
              "                        <th id=\"T_b47adfac_c4bb_11ea_a75f_0242ac1c0002level0_row6\" class=\"row_heading level0 row6\" >Superplasticizer</th>\n",
              "                        <td id=\"T_b47adfac_c4bb_11ea_a75f_0242ac1c0002row6_col0\" class=\"data row6 col0\" >0.366079</td>\n",
              "            </tr>\n",
              "            <tr>\n",
              "                        <th id=\"T_b47adfac_c4bb_11ea_a75f_0242ac1c0002level0_row7\" class=\"row_heading level0 row7\" >Cement</th>\n",
              "                        <td id=\"T_b47adfac_c4bb_11ea_a75f_0242ac1c0002row7_col0\" class=\"data row7 col0\" >0.497832</td>\n",
              "            </tr>\n",
              "            <tr>\n",
              "                        <th id=\"T_b47adfac_c4bb_11ea_a75f_0242ac1c0002level0_row8\" class=\"row_heading level0 row8\" >Strength</th>\n",
              "                        <td id=\"T_b47adfac_c4bb_11ea_a75f_0242ac1c0002row8_col0\" class=\"data row8 col0\" >1.000000</td>\n",
              "            </tr>\n",
              "    </tbody></table>"
            ],
            "text/plain": [
              "<pandas.io.formats.style.Styler at 0x7f7139354748>"
            ]
          },
          "metadata": {
            "tags": []
          },
          "execution_count": 9
        }
      ]
    },
    {
      "cell_type": "markdown",
      "metadata": {
        "id": "urpSqRMsL4n4",
        "colab_type": "text"
      },
      "source": [
        "We are interested in the correlation between strenght and the rest of the variables. The closer the number is to 1 or -1 the stronger the correlation. The closer the number is to 0, it immplies no correlation between the variables.\n",
        "In the plots, the greener or yellow the variable, the more correlated they are. \n",
        "\n",
        "Looks like cement has a very strong positive correlation. Then, Superplasticizer, Age and Water also have some interesting correlation. The other materials seem not to have a strong impact to the strenght of the concrete mixture. "
      ]
    },
    {
      "cell_type": "markdown",
      "metadata": {
        "id": "YQ1T6rJuw33Z",
        "colab_type": "text"
      },
      "source": [
        "## Data Preprocessing:"
      ]
    },
    {
      "cell_type": "markdown",
      "metadata": {
        "button": false,
        "deletable": true,
        "new_sheet": false,
        "run_control": {
          "read_only": false
        },
        "id": "4hUgE54WFPkG",
        "colab_type": "text"
      },
      "source": [
        "The data looks very clean as we saw in the data exploration phase because we don't need to take care of any missing values or cast different data types in this case. However, the data is not yet ready to be used in a neural network. There is some work to do like **splitting the features and target variables, data normalization and doing a train/test split**; so let's get to work on that. "
      ]
    },
    {
      "cell_type": "markdown",
      "metadata": {
        "id": "L6p2DVvsxvi0",
        "colab_type": "text"
      },
      "source": [
        "### Split Data into Predictors and Target datasets:\n",
        "\n",
        "The target variable in this problem is the concrete sample strength, meaning this is the value we are trying to predict. Therefore, our predictors or independent variables will be all the other columns. This is what we mean by splitting our dataset into independent variables and target variable. "
      ]
    },
    {
      "cell_type": "code",
      "metadata": {
        "button": false,
        "deletable": true,
        "new_sheet": false,
        "run_control": {
          "read_only": false
        },
        "id": "0YWVnw5HFPkJ",
        "colab_type": "code",
        "colab": {}
      },
      "source": [
        "# Split data into independent variables and target variable:\n",
        "concrete_data_columns = concrete_data.columns\n",
        "\n",
        "# All columns except for Strength, which is what we are trying to predict:\n",
        "predictors = concrete_data[concrete_data_columns[concrete_data_columns != 'Strength']] \n",
        "\n",
        "# Target variable: \n",
        "target = concrete_data[['Strength']]"
      ],
      "execution_count": 10,
      "outputs": []
    },
    {
      "cell_type": "code",
      "metadata": {
        "button": false,
        "deletable": true,
        "new_sheet": false,
        "run_control": {
          "read_only": false
        },
        "id": "wm9NM1xtFPkV",
        "colab_type": "code",
        "colab": {
          "base_uri": "https://localhost:8080/",
          "height": 197
        },
        "outputId": "affb1119-2641-40c9-f18f-d6717101615d"
      },
      "source": [
        "# Let's do a quick sanity check to make sure everything is alright:\n",
        "predictors.head()"
      ],
      "execution_count": 11,
      "outputs": [
        {
          "output_type": "execute_result",
          "data": {
            "text/html": [
              "<div>\n",
              "<style scoped>\n",
              "    .dataframe tbody tr th:only-of-type {\n",
              "        vertical-align: middle;\n",
              "    }\n",
              "\n",
              "    .dataframe tbody tr th {\n",
              "        vertical-align: top;\n",
              "    }\n",
              "\n",
              "    .dataframe thead th {\n",
              "        text-align: right;\n",
              "    }\n",
              "</style>\n",
              "<table border=\"1\" class=\"dataframe\">\n",
              "  <thead>\n",
              "    <tr style=\"text-align: right;\">\n",
              "      <th></th>\n",
              "      <th>Cement</th>\n",
              "      <th>Blast Furnace Slag</th>\n",
              "      <th>Fly Ash</th>\n",
              "      <th>Water</th>\n",
              "      <th>Superplasticizer</th>\n",
              "      <th>Coarse Aggregate</th>\n",
              "      <th>Fine Aggregate</th>\n",
              "      <th>Age</th>\n",
              "    </tr>\n",
              "  </thead>\n",
              "  <tbody>\n",
              "    <tr>\n",
              "      <th>0</th>\n",
              "      <td>540.0</td>\n",
              "      <td>0.0</td>\n",
              "      <td>0.0</td>\n",
              "      <td>162.0</td>\n",
              "      <td>2.5</td>\n",
              "      <td>1040.0</td>\n",
              "      <td>676.0</td>\n",
              "      <td>28</td>\n",
              "    </tr>\n",
              "    <tr>\n",
              "      <th>1</th>\n",
              "      <td>540.0</td>\n",
              "      <td>0.0</td>\n",
              "      <td>0.0</td>\n",
              "      <td>162.0</td>\n",
              "      <td>2.5</td>\n",
              "      <td>1055.0</td>\n",
              "      <td>676.0</td>\n",
              "      <td>28</td>\n",
              "    </tr>\n",
              "    <tr>\n",
              "      <th>2</th>\n",
              "      <td>332.5</td>\n",
              "      <td>142.5</td>\n",
              "      <td>0.0</td>\n",
              "      <td>228.0</td>\n",
              "      <td>0.0</td>\n",
              "      <td>932.0</td>\n",
              "      <td>594.0</td>\n",
              "      <td>270</td>\n",
              "    </tr>\n",
              "    <tr>\n",
              "      <th>3</th>\n",
              "      <td>332.5</td>\n",
              "      <td>142.5</td>\n",
              "      <td>0.0</td>\n",
              "      <td>228.0</td>\n",
              "      <td>0.0</td>\n",
              "      <td>932.0</td>\n",
              "      <td>594.0</td>\n",
              "      <td>365</td>\n",
              "    </tr>\n",
              "    <tr>\n",
              "      <th>4</th>\n",
              "      <td>198.6</td>\n",
              "      <td>132.4</td>\n",
              "      <td>0.0</td>\n",
              "      <td>192.0</td>\n",
              "      <td>0.0</td>\n",
              "      <td>978.4</td>\n",
              "      <td>825.5</td>\n",
              "      <td>360</td>\n",
              "    </tr>\n",
              "  </tbody>\n",
              "</table>\n",
              "</div>"
            ],
            "text/plain": [
              "   Cement  Blast Furnace Slag  Fly Ash  ...  Coarse Aggregate  Fine Aggregate  Age\n",
              "0   540.0                 0.0      0.0  ...            1040.0           676.0   28\n",
              "1   540.0                 0.0      0.0  ...            1055.0           676.0   28\n",
              "2   332.5               142.5      0.0  ...             932.0           594.0  270\n",
              "3   332.5               142.5      0.0  ...             932.0           594.0  365\n",
              "4   198.6               132.4      0.0  ...             978.4           825.5  360\n",
              "\n",
              "[5 rows x 8 columns]"
            ]
          },
          "metadata": {
            "tags": []
          },
          "execution_count": 11
        }
      ]
    },
    {
      "cell_type": "code",
      "metadata": {
        "button": false,
        "deletable": true,
        "new_sheet": false,
        "run_control": {
          "read_only": false
        },
        "id": "sX_Ig7zvFPkc",
        "colab_type": "code",
        "colab": {
          "base_uri": "https://localhost:8080/",
          "height": 197
        },
        "outputId": "0ac9a4da-8342-4070-e1f2-30e70c3efac2"
      },
      "source": [
        "# Let's do the same for the target variable: \n",
        "target.head()"
      ],
      "execution_count": 12,
      "outputs": [
        {
          "output_type": "execute_result",
          "data": {
            "text/html": [
              "<div>\n",
              "<style scoped>\n",
              "    .dataframe tbody tr th:only-of-type {\n",
              "        vertical-align: middle;\n",
              "    }\n",
              "\n",
              "    .dataframe tbody tr th {\n",
              "        vertical-align: top;\n",
              "    }\n",
              "\n",
              "    .dataframe thead th {\n",
              "        text-align: right;\n",
              "    }\n",
              "</style>\n",
              "<table border=\"1\" class=\"dataframe\">\n",
              "  <thead>\n",
              "    <tr style=\"text-align: right;\">\n",
              "      <th></th>\n",
              "      <th>Strength</th>\n",
              "    </tr>\n",
              "  </thead>\n",
              "  <tbody>\n",
              "    <tr>\n",
              "      <th>0</th>\n",
              "      <td>79.99</td>\n",
              "    </tr>\n",
              "    <tr>\n",
              "      <th>1</th>\n",
              "      <td>61.89</td>\n",
              "    </tr>\n",
              "    <tr>\n",
              "      <th>2</th>\n",
              "      <td>40.27</td>\n",
              "    </tr>\n",
              "    <tr>\n",
              "      <th>3</th>\n",
              "      <td>41.05</td>\n",
              "    </tr>\n",
              "    <tr>\n",
              "      <th>4</th>\n",
              "      <td>44.30</td>\n",
              "    </tr>\n",
              "  </tbody>\n",
              "</table>\n",
              "</div>"
            ],
            "text/plain": [
              "   Strength\n",
              "0     79.99\n",
              "1     61.89\n",
              "2     40.27\n",
              "3     41.05\n",
              "4     44.30"
            ]
          },
          "metadata": {
            "tags": []
          },
          "execution_count": 12
        }
      ]
    },
    {
      "cell_type": "markdown",
      "metadata": {
        "id": "4hJ7FbJLxePM",
        "colab_type": "text"
      },
      "source": [
        "### Data Normalization:\n",
        "\n",
        "If you look at the feature columns, you will notice that all of them are numbers but some of them have different magnitudes. This means that some of them are larger numbers when compared to the other feature columns. For example, on the histograms we plotted earlier, you'll see that 'Fine Aggregate' values are centered around the hundreds values but 'Age' values are centered between 0-100. We need to fix this, so that when we pass the data to the ML Algorithm, it doesn't create a bias towards certain features. In other words, if we don't normalize the data, the algorithm might give more importance to some features than others, thus creating a bias. You can find more information about normalization or feature scaling as it is also referred [here](https://en.wikipedia.org/wiki/Feature_scaling)."
      ]
    },
    {
      "cell_type": "code",
      "metadata": {
        "id": "4K_3yFsT3_dr",
        "colab_type": "code",
        "colab": {}
      },
      "source": [
        "# Import StandardScaler for Normalization:\n",
        "from sklearn.preprocessing import StandardScaler\n",
        "\n",
        "scaler = StandardScaler()\n",
        "X_norm = scaler.fit_transform(predictors)\n",
        "y_norm = scaler.fit_transform(target)"
      ],
      "execution_count": 13,
      "outputs": []
    },
    {
      "cell_type": "code",
      "metadata": {
        "button": false,
        "deletable": true,
        "new_sheet": false,
        "run_control": {
          "read_only": false
        },
        "id": "LojB_d_bFPkp",
        "colab_type": "code",
        "colab": {}
      },
      "source": [
        "# Let's save the number of predictors to a variable since\n",
        "# we will need this number when building our network:\n",
        "n_cols = X_norm.shape[1] "
      ],
      "execution_count": 14,
      "outputs": []
    },
    {
      "cell_type": "markdown",
      "metadata": {
        "id": "_mqZNPAyyA5d",
        "colab_type": "text"
      },
      "source": [
        "### Train Test Split:\n",
        "\n",
        "Finally, the reason we need to split the data into a training and testing sets is because we need to evaluate our model in data that is new to the model. Otherwise, if we use the entire dataset for training, it could just 'memorize' our data but when given new examples that has never seen before, it will most likely perform badly. That is why we will hold onto a 30% of out data for testing our model after training. This 30% will represent examples that the model has never seen before; therefore, giving us a more realistic picture of the truly pridictive capabilities of the model. "
      ]
    },
    {
      "cell_type": "code",
      "metadata": {
        "id": "owj2zpMWQh1w",
        "colab_type": "code",
        "colab": {}
      },
      "source": [
        "# Let's create our train and test datasets from the normalized data: \n",
        "\n",
        "# First, import a module from the sklearn library:\n",
        "from sklearn.model_selection import train_test_split\n",
        "\n",
        "# Split the data. We will hold onto 30% for testing further on:\n",
        "X_train, X_test, y_train, y_test\\\n",
        "= train_test_split(X_norm, y_norm, test_size=0.30, random_state=69)"
      ],
      "execution_count": 15,
      "outputs": []
    },
    {
      "cell_type": "markdown",
      "metadata": {
        "button": false,
        "deletable": true,
        "new_sheet": false,
        "run_control": {
          "read_only": false
        },
        "id": "j6v8NxV1FPkv",
        "colab_type": "text"
      },
      "source": [
        "## Building a Neural Network with Keras:\n",
        "\n",
        "For this model, we are creating a basic neural network with one input layer, two hidden layers and one output layer. For the activation function, we are using the ReLu function and Mean Squared Error will be our evaluation metric. Also, for optimizing the weights and biases of our network, we will use the Adam Algorithm. This are some of the most common settings when working with neural networks in this type of problems. Of course, the settings can and should be changed depending on what you are trying to accomplish. "
      ]
    },
    {
      "cell_type": "code",
      "metadata": {
        "button": false,
        "deletable": true,
        "new_sheet": false,
        "run_control": {
          "read_only": false
        },
        "id": "z7qqRlrtFPk0",
        "colab_type": "code",
        "colab": {
          "base_uri": "https://localhost:8080/",
          "height": 34
        },
        "outputId": "ccc9344e-2102-4c91-cbc7-ad98c22c0415"
      },
      "source": [
        "# Let's go ahead and import the Keras library and other required packages:\n",
        "import keras\n",
        "from keras.models import Sequential\n",
        "from keras.layers import Dense"
      ],
      "execution_count": 16,
      "outputs": [
        {
          "output_type": "stream",
          "text": [
            "Using TensorFlow backend.\n"
          ],
          "name": "stderr"
        }
      ]
    },
    {
      "cell_type": "code",
      "metadata": {
        "button": false,
        "deletable": true,
        "new_sheet": false,
        "run_control": {
          "read_only": false
        },
        "id": "ngw-Zd4RFPlI",
        "colab_type": "code",
        "colab": {}
      },
      "source": [
        "# Let's define a function that defines our regression model:\n",
        "\n",
        "def regression_model():\n",
        "  \n",
        "    \"\"\" Create a model with one hidden layer and \n",
        "    10 neurons. Since this is a regression problem,\n",
        "    we only need one output neuron. For the optimizer\n",
        "    we will use the Adam function and the evaluation\n",
        "    metric will be MSE (mean squared error).\"\"\"\n",
        "\n",
        "    # Build the model:\n",
        "    model = Sequential()\n",
        "    model.add(Dense(50, activation='relu', input_shape=(n_cols,)))\n",
        "    model.add(Dense(50, activation='relu'))\n",
        "    model.add(Dense(1))\n",
        "    \n",
        "    # Compile the model:\n",
        "    model.compile(optimizer='adam', loss='mean_squared_error')\n",
        "    return model\n",
        "\n",
        "# Let's call the function now to create our model:\n",
        "model = regression_model()    "
      ],
      "execution_count": 17,
      "outputs": []
    },
    {
      "cell_type": "code",
      "metadata": {
        "id": "59VDfck50wUf",
        "colab_type": "code",
        "colab": {
          "base_uri": "https://localhost:8080/",
          "height": 368
        },
        "outputId": "8e8ea34f-a8f5-498f-9836-f47091ffaee8"
      },
      "source": [
        "# For visualization purposes, let's plot the graph that represent our model:\n",
        "import tensorflow as tf\n",
        "\n",
        "tf.keras.utils.plot_model(\n",
        "    model,\n",
        "    to_file=\"model.png\",\n",
        "    show_shapes=False,\n",
        "    show_layer_names=True,\n",
        "    rankdir=\"TB\",\n",
        "    expand_nested=False,\n",
        "    dpi=96,\n",
        ")"
      ],
      "execution_count": 18,
      "outputs": [
        {
          "output_type": "execute_result",
          "data": {
            "image/png": "[encoded data removed]",
            "text/plain": [
              "<IPython.core.display.Image object>"
            ]
          },
          "metadata": {
            "tags": []
          },
          "execution_count": 18
        }
      ]
    },
    {
      "cell_type": "markdown",
      "metadata": {
        "button": false,
        "deletable": true,
        "new_sheet": false,
        "run_control": {
          "read_only": false
        },
        "id": "1fhVTs4hFPlN",
        "colab_type": "text"
      },
      "source": [
        "## Training and Testing the Model:\n",
        "\n",
        "Next, we will train our model on 100 epochs and then test the model. Epochs are the number of iterations over the entire training data. Once an epoch is completed, the network weights and biases are optimized and a new round will begin until all the iterations are completed. "
      ]
    },
    {
      "cell_type": "code",
      "metadata": {
        "id": "bvbLi-xlFPlT",
        "colab_type": "code",
        "colab": {
          "base_uri": "https://localhost:8080/",
          "height": 605
        },
        "outputId": "ef4c39b1-c63b-4006-eeae-22f051f74045"
      },
      "source": [
        "# Train the model\n",
        "Epochs = 100\n",
        "training = model.fit(X_train, y_train, epochs=Epochs, verbose=0)\n",
        "\n",
        "# Plot MSE Results:\n",
        "from matplotlib.ticker import StrMethodFormatter\n",
        "plt.figure(figsize=(13,8))\n",
        "plt.plot(training.history['loss'], label='MSE (training data)')\n",
        "plt.title('MSE Results on Training Data',fontsize=18)\n",
        "plt.ylabel('MSE value')\n",
        "plt.xlabel('No. Epoch')\n",
        "plt.legend(loc=\"upper right\")\n",
        "plt.gca().yaxis.set_major_formatter(StrMethodFormatter('{x:,.2f}'))\n",
        "plt.show()\n",
        "\n",
        "print('\\nMSE Score on the Training Data after {} epochs : {}'\\\n",
        "      .format(\n",
        "          Epochs,training.history['loss'][-1]\n",
        "          )\n",
        "      )\n",
        "\n",
        "print('\\nMSE Mean over {} epochs: {} \\nMSE Std Deviation over {} epchs: {}'\\\n",
        "      .format(\n",
        "          Epochs,\n",
        "          np.mean(training.history['loss']),\n",
        "          Epochs,\n",
        "          np.std(training.history['loss'])\n",
        "      )\n",
        ")"
      ],
      "execution_count": 19,
      "outputs": [
        {
          "output_type": "display_data",
          "data": {
            "image/png": "[encoded data removed]",
            "text/plain": [
              "<Figure size 936x576 with 1 Axes>"
            ]
          },
          "metadata": {
            "tags": []
          }
        },
        {
          "output_type": "stream",
          "text": [
            "\n",
            "MSE Score on the Training Data after 100 epochs : 0.04553832806099139\n",
            "\n",
            "MSE Mean over 100 epochs: 0.09917377502988149 \n",
            "MSE Std Deviation over 100 epchs: 0.10954717445380062\n"
          ],
          "name": "stdout"
        }
      ]
    },
    {
      "cell_type": "code",
      "metadata": {
        "id": "g5D-DIxG-oRn",
        "colab_type": "code",
        "colab": {
          "base_uri": "https://localhost:8080/",
          "height": 552
        },
        "outputId": "510a8658-00b6-4896-9138-96aa3c5202d3"
      },
      "source": [
        "# import MSE to evaluate our predictions:\n",
        "from sklearn.metrics import mean_squared_error\n",
        "\n",
        "# Let's make some predictions: \n",
        "y_pred= model.predict(X_test)\n",
        "\n",
        "# Plot predicted values versus true values:\n",
        "plt.figure(figsize=(13,8))\n",
        "plt.scatter(y_test, y_pred,\n",
        "            label='True Values')\n",
        "plt.plot([y_test.min(), y_test.max()],\n",
        "         [y_test.min(), y_test.max()],\n",
        "         'r--', lw=3,\n",
        "         label='Predicted Values')\n",
        "plt.title('Predictions vs True Values', fontsize=18)\n",
        "plt.ylabel('Predicted')\n",
        "plt.xlabel('Measured')\n",
        "plt.legend(loc=\"upper left\")\n",
        "plt.show()\n",
        "\n",
        "print('\\nMSE Score on the Test Data: {}'\\\n",
        "      .format(mean_squared_error(y_test, y_pred)))"
      ],
      "execution_count": 20,
      "outputs": [
        {
          "output_type": "display_data",
          "data": {
            "image/png": "[encoded data removed]",
            "text/plain": [
              "<Figure size 936x576 with 1 Axes>"
            ]
          },
          "metadata": {
            "tags": []
          }
        },
        {
          "output_type": "stream",
          "text": [
            "\n",
            "MSE Score on the Test Data: 0.10086117453310134\n"
          ],
          "name": "stdout"
        }
      ]
    },
    {
      "cell_type": "markdown",
      "metadata": {
        "id": "hTpPxchfP4dK",
        "colab_type": "text"
      },
      "source": [
        "## Conclusions:"
      ]
    },
    {
      "cell_type": "markdown",
      "metadata": {
        "id": "uJCNM81T_-1Z",
        "colab_type": "text"
      },
      "source": [
        "On the last plot, once we make predictions using the test data that we had saved for evaluation, we see that these predictions represented by the red broken encompasses most of the true values pretty well except for some outliers. This means that our model is doing a good job at generalizing and it is not just memorizing our training data. Another observation is that we got a pretty low MSE in both the training and testing phase meaning that we are not overfitting the data. The lower the MSE the better as this means that our predictions are fairly close to the real values. \n",
        "\n",
        "Finally, as a conclusion I would like to mention that this is a rather simple model. Models used in production environments use huge amounts of data and the models consist of more complex architectures. That being said, this is a good exercise for experimentation purposes and would be a good starting point for someone looking into implementing machine learning for their business problems. Thanks everyone who took the time to read thorugh and I will greatly appreciate any feedback or comments. \n",
        "\n",
        "Cheers!"
      ]
    },
    {
      "cell_type": "markdown",
      "metadata": {
        "id": "0Q7lhc-JcuPV",
        "colab_type": "text"
      },
      "source": [
        "***"
      ]
    }
  ]
}
